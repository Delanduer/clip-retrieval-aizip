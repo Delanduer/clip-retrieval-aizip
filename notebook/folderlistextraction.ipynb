{
 "cells": [
  {
   "cell_type": "code",
   "execution_count": 1,
   "id": "ca7daa47",
   "metadata": {},
   "outputs": [],
   "source": [
    "def getfirstlvlsubfolderlist(parent_folder):\n",
    "    print(\"Parent folder: {}\".format(parent_folder))\n",
    "    from glob import glob\n",
    "    subfolders = glob(parent_folder + \"/*/\", recursive=True)\n",
    "    print(\"Total number of subfolders detected: {}\\nFirst subfolder: {}\".format(len(subfolders),subfolders[0]))\n",
    "    return subfolders"
   ]
  },
  {
   "cell_type": "code",
   "execution_count": 3,
   "id": "367adfc5",
   "metadata": {},
   "outputs": [],
   "source": [
    "def getfoldersfrompattern(path_list, pattern):\n",
    "    if len(path_list) < 1:\n",
    "        print(\"Error: given path list empty.\")\n",
    "        return []\n",
    "    else:\n",
    "        output_list = []\n",
    "        for path in path_list:\n",
    "            subfolders = getfirstlvlsubfolderlist(path)\n",
    "            for subfolder in subfolders:\n",
    "                if pattern in subfolder:\n",
    "                    output_list.append(subfolder)\n",
    "        return output_list"
   ]
  },
  {
   "cell_type": "code",
   "execution_count": 14,
   "id": "ffeba351",
   "metadata": {},
   "outputs": [],
   "source": [
    "import os\n",
    "def getimgfolders(path_list):\n",
    "    if len(path_list) < 1:\n",
    "        print(\"Error: given path list is empty for img folders\")\n",
    "        return []\n",
    "    else:\n",
    "        output_list  = []\n",
    "        for path in path_list:\n",
    "            lowest_name = path.rsplit(\"/\", 2)[1]\n",
    "            #print(\"lowest name: {}\".format(lowest_name))\n",
    "            if lowest_name == []:\n",
    "                print(\"Error by extracting lowest path name for: {}\".format(path))\n",
    "                continue\n",
    "            else:\n",
    "                img_idx = lowest_name.rsplit(\"-\", 2)[1]\n",
    "                new_path = os.path.join(path, \"i\"+img_idx)\n",
    "                output_list.extend(getfirstlvlsubfolderlist(new_path))\n",
    "        return output_list"
   ]
  },
  {
   "cell_type": "code",
   "execution_count": null,
   "id": "a5eedbf8",
   "metadata": {},
   "outputs": [],
   "source": [
    "laion_img_parent_folders = getfoldersfrompattern([\"/nfs/ssd2/data/laion400m\"], \"-img\")\n",
    "print(laion_img_parent_folders)\n",
    "laion_img_child_folders = getimgfolders(laion_img_parent_folders)\n",
    "print(len(laion_img_child_folders))"
   ]
  },
  {
   "cell_type": "code",
   "execution_count": 18,
   "id": "746ed8e3",
   "metadata": {},
   "outputs": [
    {
     "name": "stdout",
     "output_type": "stream",
     "text": [
      "['/nfs/ssd2/data/laion400m', '/nfs/ssd3/data/laion400m', '/nfs/ssd4/data/laion400m', '/nfs/ssd5/data/laion400m', '/nfs/ssd6/data/laion400m', '/nfs/ssd7/data/laion400m', '/nfs/ssd8/data/laion400m', '/nfs/ssd9/data/laion400m']\n"
     ]
    }
   ],
   "source": [
    "ssd_paths = []\n",
    "for i in range(2, 10):\n",
    "    ssd_path = \"/nfs/ssd\" + str(i) + \"/data/laion400m\"\n",
    "    ssd_paths.append(ssd_path)\n",
    "print(ssd_paths)"
   ]
  },
  {
   "cell_type": "code",
   "execution_count": 7,
   "id": "83a81c0b",
   "metadata": {},
   "outputs": [
    {
     "data": {
      "text/plain": [
       "[3, 4]"
      ]
     },
     "execution_count": 7,
     "metadata": {},
     "output_type": "execute_result"
    }
   ],
   "source": [
    "list_a = []\n",
    "list_a.extend([3,4])\n",
    "list_a"
   ]
  },
  {
   "cell_type": "code",
   "execution_count": 2,
   "id": "9cc72e3d",
   "metadata": {},
   "outputs": [
    {
     "name": "stdout",
     "output_type": "stream",
     "text": [
      "Total num of laion folders: 33, first one: /nfs/ssd14/projects/junjie/laion400m/\n",
      "Handling i15\n",
      "Total files: 1294 in parent path /nfs/ssd14/projects/junjie/laion400mi15/stats\n",
      "Handling i24\n",
      "Total files: 1294 in parent path /nfs/ssd14/projects/junjie/laion400mi24/stats\n",
      "Handling i13\n",
      "Total files: 1294 in parent path /nfs/ssd14/projects/junjie/laion400mi13/stats\n",
      "Handling i12\n",
      "Total files: 1294 in parent path /nfs/ssd14/projects/junjie/laion400mi12/stats\n",
      "Handling i16\n",
      "Total files: 1294 in parent path /nfs/ssd14/projects/junjie/laion400mi16/stats\n",
      "Handling i06\n",
      "Total files: 1294 in parent path /nfs/ssd14/projects/junjie/laion400mi06/stats\n",
      "Handling i10\n",
      "Total files: 1294 in parent path /nfs/ssd14/projects/junjie/laion400mi10/stats\n",
      "Handling i00\n",
      "Total files: 1294 in parent path /nfs/ssd14/projects/junjie/laion400mi00/stats\n",
      "Handling i14\n",
      "Total files: 1294 in parent path /nfs/ssd14/projects/junjie/laion400mi14/stats\n",
      "Handling i28\n",
      "Total files: 1294 in parent path /nfs/ssd14/projects/junjie/laion400mi28/stats\n",
      "Handling i11\n",
      "Total files: 1294 in parent path /nfs/ssd14/projects/junjie/laion400mi11/stats\n",
      "Handling i25\n",
      "Total files: 1294 in parent path /nfs/ssd14/projects/junjie/laion400mi25/stats\n",
      "Handling i17\n",
      "Total files: 1294 in parent path /nfs/ssd14/projects/junjie/laion400mi17/stats\n",
      "Handling i26\n",
      "Total files: 1294 in parent path /nfs/ssd14/projects/junjie/laion400mi26/stats\n",
      "Handling i22\n",
      "Total files: 1294 in parent path /nfs/ssd14/projects/junjie/laion400mi22/stats\n",
      "Handling i30\n",
      "Total files: 1294 in parent path /nfs/ssd14/projects/junjie/laion400mi30/stats\n",
      "Handling i07\n",
      "Total files: 1294 in parent path /nfs/ssd14/projects/junjie/laion400mi07/stats\n",
      "Handling i08\n",
      "Total files: 1294 in parent path /nfs/ssd14/projects/junjie/laion400mi08/stats\n",
      "Handling i02\n",
      "Total files: 1294 in parent path /nfs/ssd14/projects/junjie/laion400mi02/stats\n",
      "Handling i05\n",
      "Total files: 1294 in parent path /nfs/ssd14/projects/junjie/laion400mi05/stats\n",
      "Handling i21\n",
      "Total files: 1294 in parent path /nfs/ssd14/projects/junjie/laion400mi21/stats\n",
      "Handling i27\n",
      "Total files: 1294 in parent path /nfs/ssd14/projects/junjie/laion400mi27/stats\n",
      "Handling i01\n",
      "Total files: 1294 in parent path /nfs/ssd14/projects/junjie/laion400mi01/stats\n",
      "Handling i20\n",
      "Total files: 1294 in parent path /nfs/ssd14/projects/junjie/laion400mi20/stats\n",
      "Handling i04\n",
      "Total files: 1294 in parent path /nfs/ssd14/projects/junjie/laion400mi04/stats\n",
      "Handling i03\n",
      "Total files: 1342 in parent path /nfs/ssd14/projects/junjie/laion400mi03/stats\n",
      "Handling i18\n",
      "Total files: 1294 in parent path /nfs/ssd14/projects/junjie/laion400mi18/stats\n",
      "Handling i23\n",
      "Total files: 1294 in parent path /nfs/ssd14/projects/junjie/laion400mi23/stats\n",
      "Handling i19\n",
      "Total files: 1294 in parent path /nfs/ssd14/projects/junjie/laion400mi19/stats\n",
      "Handling i09\n",
      "Total files: 1294 in parent path /nfs/ssd14/projects/junjie/laion400mi09/stats\n",
      "Handling i31\n",
      "Total files: 1294 in parent path /nfs/ssd14/projects/junjie/laion400mi31/stats\n",
      "Handling i29\n",
      "Total files: 1294 in parent path /nfs/ssd14/projects/junjie/laion400mi29/stats\n"
     ]
    }
   ],
   "source": [
    "def renamefile(filelist, prefix, parent_path):\n",
    "    print(\"Total files: {} in parent path {}\".format(len(filelist), parent_path))\n",
    "    for old_name in filelist:\n",
    "        new_name = prefix + \"_\" + old_name\n",
    "        os.rename(os.path.join(parent_path, old_name), os.path.join(parent_path, new_name))\n",
    "    \n",
    "laion_path = \"/nfs/ssd14/projects/junjie\"\n",
    "\n",
    "from glob import glob\n",
    "import os\n",
    "laion_subfolders = glob(laion_path + \"/*/\", recursive=True)\n",
    "\n",
    "print(\"Total num of laion folders: {}, first one: {}\".format(len(laion_subfolders), laion_subfolders[0]))\n",
    "\n",
    "for submain in laion_subfolders:\n",
    "    if submain.rsplit(\"/\", 2)[1] == \"laion400m\":\n",
    "        continue\n",
    "    cat = submain[-4:-1]\n",
    "    print(\"Handling {}\".format(cat))\n",
    "    \n",
    "    #subimg = os.path.join(submain, \"img_emb\")\n",
    "    #filelist = os.listdir(subimg)\n",
    "    #renamefile(filelist, cat, subimg)\n",
    "                  \n",
    "    #submetadata = os.path.join(submain, \"metadata\")\n",
    "    #filelist = os.listdir(submetadata)\n",
    "    #renamefile(filelist, cat, submetadata)\n",
    "    \n",
    "    substats = os.path.join(submain, \"stats\")\n",
    "    filelist = os.listdir(substats)\n",
    "    renamefile(filelist, cat, substats)"
   ]
  },
  {
   "cell_type": "code",
   "execution_count": 12,
   "id": "603e34a1",
   "metadata": {},
   "outputs": [],
   "source": [
    "target_emb_path = \"/nfs/ssd14/projects/junjie/laion400mi00/img_emb\"\n",
    "target_meta_path = \"/nfs/ssd14/projects/junjie/laion400mi00/img_\""
   ]
  },
  {
   "cell_type": "code",
   "execution_count": null,
   "id": "1cc29197",
   "metadata": {},
   "outputs": [],
   "source": []
  }
 ],
 "metadata": {
  "kernelspec": {
   "display_name": "clip",
   "language": "python",
   "name": "clip"
  },
  "language_info": {
   "codemirror_mode": {
    "name": "ipython",
    "version": 3
   },
   "file_extension": ".py",
   "mimetype": "text/x-python",
   "name": "python",
   "nbconvert_exporter": "python",
   "pygments_lexer": "ipython3",
   "version": "3.8.16"
  }
 },
 "nbformat": 4,
 "nbformat_minor": 5
}
