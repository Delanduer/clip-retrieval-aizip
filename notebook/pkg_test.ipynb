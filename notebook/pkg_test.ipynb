{
 "cells": [
  {
   "cell_type": "code",
   "execution_count": null,
   "metadata": {},
   "outputs": [],
   "source": [
    "from aizip_clip_server import clip_back_fastapi"
   ]
  },
  {
   "cell_type": "code",
   "execution_count": null,
   "metadata": {},
   "outputs": [],
   "source": [
    "columns = [\"url\", \"caption\", \"image_path\"]\n",
    "app = clip_back_fastapi(\n",
    "    index_folder=\"/nfs/ssd14/projects/junjie/laion400m_index_tests/10ms\",\n",
    "    columns_to_return=columns,\n",
    "    reorder_metadata_by_ivf_index=False,\n",
    "    enable_mclip_option=True,\n",
    "    clip_model=\"ViT-L/14\",\n",
    "    use_jit=True,\n",
    "    use_arrow=False,\n",
    "    provide_safety_model=False,\n",
    "    provide_violence_detector=False,\n",
    "    provide_aesthetic_embeddings=True,\n",
    ")\n",
    "\n",
    "import uvicorn\n",
    "uvicorn.run(\n",
    "    app=app,\n",
    "    #\"clip_backend:app\",\n",
    "    host=\"127.0.0.1\",\n",
    "    port=13005,\n",
    "    #reload=True,\n",
    ")"
   ]
  }
 ],
 "metadata": {
  "kernelspec": {
   "display_name": "aizip_test",
   "language": "python",
   "name": "python3"
  },
  "language_info": {
   "codemirror_mode": {
    "name": "ipython",
    "version": 3
   },
   "file_extension": ".py",
   "mimetype": "text/x-python",
   "name": "python",
   "nbconvert_exporter": "python",
   "pygments_lexer": "ipython3",
   "version": "3.9.17"
  },
  "orig_nbformat": 4
 },
 "nbformat": 4,
 "nbformat_minor": 2
}
