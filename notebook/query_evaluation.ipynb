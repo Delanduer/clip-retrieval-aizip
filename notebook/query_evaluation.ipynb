{
 "cells": [
  {
   "cell_type": "code",
   "execution_count": 1,
   "metadata": {},
   "outputs": [
    {
     "name": "stderr",
     "output_type": "stream",
     "text": [
      "/home/junjie/anaconda3/envs/clip/lib/python3.9/site-packages/tqdm/auto.py:21: TqdmWarning: IProgress not found. Please update jupyter and ipywidgets. See https://ipywidgets.readthedocs.io/en/stable/user_install.html\n",
      "  from .autonotebook import tqdm as notebook_tqdm\n"
     ]
    }
   ],
   "source": [
    "import os\n",
    "from clip_retrieval.clip_back import load_clip_index, KnnService, ClipOptions"
   ]
  },
  {
   "cell_type": "code",
   "execution_count": 2,
   "metadata": {},
   "outputs": [
    {
     "name": "stdout",
     "output_type": "stream",
     "text": [
      "warming up with batch size 1 on cuda\n"
     ]
    },
    {
     "name": "stderr",
     "output_type": "stream",
     "text": [
      "/home/junjie/anaconda3/envs/clip/lib/python3.9/site-packages/clip/clip.py:160: FutureWarning: 'torch.onnx._patch_torch._node_getitem' is deprecated in version 1.13 and will be removed in version 1.14. Please Internally use '_node_get' in symbolic_helper instead..\n",
      "  if \"value\" in node.attributeNames() and str(node[\"value\"]).startswith(\"cuda\"):\n"
     ]
    },
    {
     "name": "stdout",
     "output_type": "stream",
     "text": [
      "done warming up in 4.72126030921936s\n"
     ]
    }
   ],
   "source": [
    "columns = [\"url\", \"caption\", \"image_path\"] #needs to be check if there are any more valid\n",
    "clip_res = load_clip_index(\n",
    "    clip_options=ClipOptions(\n",
    "        indice_folder=\"/nfs/ssd14/projects/junjie/laion400m_index_tests/10ms_tune/n128_ef_256_nogpu\",\n",
    "        clip_model=\"ViT-L/14\", #ViT-B/32, ViT-L/14\n",
    "        enable_hdf5=False,\n",
    "        enable_faiss_memory_mapping=False,\n",
    "        columns_to_return=columns,\n",
    "        reorder_metadata_by_ivf_index=False,\n",
    "        enable_mclip_option=False,\n",
    "        use_jit=True,\n",
    "        use_arrow=False,\n",
    "        provide_safety_model=False,\n",
    "        provide_violence_detector=False,\n",
    "        provide_aesthetic_embeddings=True,\n",
    "        )\n",
    "    )"
   ]
  },
  {
   "cell_type": "code",
   "execution_count": 3,
   "metadata": {},
   "outputs": [],
   "source": [
    "clip_res_dict = {}\n",
    "clip_res_dict[0]=clip_res\n",
    "knn_service_laion= KnnService(clip_resources=clip_res_dict)"
   ]
  },
  {
   "cell_type": "code",
   "execution_count": 4,
   "metadata": {},
   "outputs": [],
   "source": [
    "import numpy as np\n",
    "\n",
    "l14_weight = np.genfromtxt('/home/junjie/clip_retrieval/classifier/l14_weight.csv', delimiter=' ')\n",
    "l14_bias = np.genfromtxt('/home/junjie/clip_retrieval/classifier/l14_bias.csv', delimiter=' ')\n",
    "\n",
    "weight_np = l14_weight[0,:]\n",
    "weight_p = l14_weight[1,:]\n",
    "bias_np = l14_bias[0]\n",
    "bias_p = l14_bias[1]"
   ]
  },
  {
   "cell_type": "code",
   "execution_count": 7,
   "metadata": {},
   "outputs": [
    {
     "name": "stdout",
     "output_type": "stream",
     "text": [
      "Duration for filtering query results: 0.003235252108424902\n",
      "Total duration for query with classifier: 1510.1055955938064\n"
     ]
    }
   ],
   "source": [
    "results = knn_service_laion.classifier_img_query(\n",
    "    #cls_weight_emb=weight_np,\n",
    "    #cls_bias_emb=bias_np,\n",
    "    cls_weight_emb=weight_p,\n",
    "    cls_bias_emb=bias_p,\n",
    "    num_images=200000,\n",
    "    num_result_ids=200000,\n",
    "    deduplicate=True,\n",
    "    use_safety_model=False,\n",
    "    use_violence_detector=False,\n",
    "    aesthetic_score=None,\n",
    "    aesthetic_weight=None,\n",
    "    threshold=0.0\n",
    ")"
   ]
  },
  {
   "cell_type": "code",
   "execution_count": 14,
   "metadata": {},
   "outputs": [],
   "source": [
    "import pandas as pd\n",
    "url_captions = pd.DataFrame([(e['image_path'], e['id'], e['similarity']) for e in results], columns=[\"image_path\", \"id\", \"similarity\"])\n",
    "from IPython.display import Image, display\n",
    "verify_image1 = Image(filename=url_captions[\"image_path\"][0])"
   ]
  },
  {
   "cell_type": "code",
   "execution_count": 15,
   "metadata": {},
   "outputs": [
    {
     "data": {
      "text/html": [
       "<div>\n",
       "<style scoped>\n",
       "    .dataframe tbody tr th:only-of-type {\n",
       "        vertical-align: middle;\n",
       "    }\n",
       "\n",
       "    .dataframe tbody tr th {\n",
       "        vertical-align: top;\n",
       "    }\n",
       "\n",
       "    .dataframe thead th {\n",
       "        text-align: right;\n",
       "    }\n",
       "</style>\n",
       "<table border=\"1\" class=\"dataframe\">\n",
       "  <thead>\n",
       "    <tr style=\"text-align: right;\">\n",
       "      <th></th>\n",
       "      <th>image_path</th>\n",
       "      <th>id</th>\n",
       "      <th>similarity</th>\n",
       "    </tr>\n",
       "  </thead>\n",
       "  <tbody>\n",
       "    <tr>\n",
       "      <th>0</th>\n",
       "      <td>/nfs/ssd3/data/laion400m/laion400m-data-09-img...</td>\n",
       "      <td>118129811</td>\n",
       "      <td>0.260879</td>\n",
       "    </tr>\n",
       "    <tr>\n",
       "      <th>1</th>\n",
       "      <td>/nfs/ssd2/data/laion400m/laion400m-data-02-img...</td>\n",
       "      <td>31380099</td>\n",
       "      <td>0.259428</td>\n",
       "    </tr>\n",
       "    <tr>\n",
       "      <th>2</th>\n",
       "      <td>/nfs/ssd8/data/laion400m/laion400m-data-20-img...</td>\n",
       "      <td>249485474</td>\n",
       "      <td>0.256691</td>\n",
       "    </tr>\n",
       "    <tr>\n",
       "      <th>3</th>\n",
       "      <td>/nfs/ssd3/data/laion400m/laion400m-data-09-img...</td>\n",
       "      <td>111973585</td>\n",
       "      <td>0.255502</td>\n",
       "    </tr>\n",
       "    <tr>\n",
       "      <th>4</th>\n",
       "      <td>/nfs/ssd4/data/laion400m/laion400m-data-18-img...</td>\n",
       "      <td>221941110</td>\n",
       "      <td>0.255139</td>\n",
       "    </tr>\n",
       "    <tr>\n",
       "      <th>5</th>\n",
       "      <td>/nfs/ssd6/data/laion400m/laion400m-data-04-img...</td>\n",
       "      <td>56643808</td>\n",
       "      <td>0.253858</td>\n",
       "    </tr>\n",
       "    <tr>\n",
       "      <th>6</th>\n",
       "      <td>/nfs/ssd9/data/laion400m/laion400m-data-28-img...</td>\n",
       "      <td>347929900</td>\n",
       "      <td>0.253393</td>\n",
       "    </tr>\n",
       "    <tr>\n",
       "      <th>7</th>\n",
       "      <td>/nfs/ssd9/data/laion400m/laion400m-data-30-img...</td>\n",
       "      <td>373713048</td>\n",
       "      <td>0.253164</td>\n",
       "    </tr>\n",
       "  </tbody>\n",
       "</table>\n",
       "</div>"
      ],
      "text/plain": [
       "                                          image_path         id  similarity\n",
       "0  /nfs/ssd3/data/laion400m/laion400m-data-09-img...  118129811    0.260879\n",
       "1  /nfs/ssd2/data/laion400m/laion400m-data-02-img...   31380099    0.259428\n",
       "2  /nfs/ssd8/data/laion400m/laion400m-data-20-img...  249485474    0.256691\n",
       "3  /nfs/ssd3/data/laion400m/laion400m-data-09-img...  111973585    0.255502\n",
       "4  /nfs/ssd4/data/laion400m/laion400m-data-18-img...  221941110    0.255139\n",
       "5  /nfs/ssd6/data/laion400m/laion400m-data-04-img...   56643808    0.253858\n",
       "6  /nfs/ssd9/data/laion400m/laion400m-data-28-img...  347929900    0.253393\n",
       "7  /nfs/ssd9/data/laion400m/laion400m-data-30-img...  373713048    0.253164"
      ]
     },
     "execution_count": 15,
     "metadata": {},
     "output_type": "execute_result"
    }
   ],
   "source": [
    "url_captions"
   ]
  },
  {
   "cell_type": "code",
   "execution_count": null,
   "metadata": {},
   "outputs": [],
   "source": []
  }
 ],
 "metadata": {
  "kernelspec": {
   "display_name": "clip",
   "language": "python",
   "name": "python3"
  },
  "language_info": {
   "codemirror_mode": {
    "name": "ipython",
    "version": 3
   },
   "file_extension": ".py",
   "mimetype": "text/x-python",
   "name": "python",
   "nbconvert_exporter": "python",
   "pygments_lexer": "ipython3",
   "version": "3.9.0"
  },
  "orig_nbformat": 4
 },
 "nbformat": 4,
 "nbformat_minor": 2
}
