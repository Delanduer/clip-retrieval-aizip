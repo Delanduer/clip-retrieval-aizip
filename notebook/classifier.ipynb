{
 "cells": [
  {
   "cell_type": "code",
   "execution_count": 26,
   "id": "59563dd9",
   "metadata": {},
   "outputs": [
    {
     "data": {
      "text/plain": [
       "<pyarrow._parquet.FileMetaData object at 0x7f44477d1e00>\n",
       "  created_by: parquet-cpp-arrow version 7.0.0\n",
       "  num_columns: 1\n",
       "  num_rows: 118287\n",
       "  num_row_groups: 1\n",
       "  format_version: 1.0\n",
       "  serialized_size: 1598"
      ]
     },
     "execution_count": 26,
     "metadata": {},
     "output_type": "execute_result"
    }
   ],
   "source": [
    "import pyarrow.parquet as pq\n",
    "pq.read_metadata('/home/junjie/test/reference/emb_coco_train_ref/metadata/metadata_0.parquet')"
   ]
  },
  {
   "cell_type": "code",
   "execution_count": 27,
   "id": "bc028027",
   "metadata": {},
   "outputs": [
    {
     "data": {
      "text/html": [
       "<div>\n",
       "<style scoped>\n",
       "    .dataframe tbody tr th:only-of-type {\n",
       "        vertical-align: middle;\n",
       "    }\n",
       "\n",
       "    .dataframe tbody tr th {\n",
       "        vertical-align: top;\n",
       "    }\n",
       "\n",
       "    .dataframe thead th {\n",
       "        text-align: right;\n",
       "    }\n",
       "</style>\n",
       "<table border=\"1\" class=\"dataframe\">\n",
       "  <thead>\n",
       "    <tr style=\"text-align: right;\">\n",
       "      <th></th>\n",
       "      <th>image_path</th>\n",
       "    </tr>\n",
       "  </thead>\n",
       "  <tbody>\n",
       "    <tr>\n",
       "      <th>0</th>\n",
       "      <td>/ssd/mlrom/Data/coco2017/train2017/00000000000...</td>\n",
       "    </tr>\n",
       "    <tr>\n",
       "      <th>1</th>\n",
       "      <td>/ssd/mlrom/Data/coco2017/train2017/00000000002...</td>\n",
       "    </tr>\n",
       "    <tr>\n",
       "      <th>2</th>\n",
       "      <td>/ssd/mlrom/Data/coco2017/train2017/00000000003...</td>\n",
       "    </tr>\n",
       "    <tr>\n",
       "      <th>3</th>\n",
       "      <td>/ssd/mlrom/Data/coco2017/train2017/00000000003...</td>\n",
       "    </tr>\n",
       "    <tr>\n",
       "      <th>4</th>\n",
       "      <td>/ssd/mlrom/Data/coco2017/train2017/00000000003...</td>\n",
       "    </tr>\n",
       "    <tr>\n",
       "      <th>...</th>\n",
       "      <td>...</td>\n",
       "    </tr>\n",
       "    <tr>\n",
       "      <th>118282</th>\n",
       "      <td>/ssd/mlrom/Data/coco2017/train2017/00000058190...</td>\n",
       "    </tr>\n",
       "    <tr>\n",
       "      <th>118283</th>\n",
       "      <td>/ssd/mlrom/Data/coco2017/train2017/00000058190...</td>\n",
       "    </tr>\n",
       "    <tr>\n",
       "      <th>118284</th>\n",
       "      <td>/ssd/mlrom/Data/coco2017/train2017/00000058191...</td>\n",
       "    </tr>\n",
       "    <tr>\n",
       "      <th>118285</th>\n",
       "      <td>/ssd/mlrom/Data/coco2017/train2017/00000058192...</td>\n",
       "    </tr>\n",
       "    <tr>\n",
       "      <th>118286</th>\n",
       "      <td>/ssd/mlrom/Data/coco2017/train2017/00000058192...</td>\n",
       "    </tr>\n",
       "  </tbody>\n",
       "</table>\n",
       "<p>118287 rows × 1 columns</p>\n",
       "</div>"
      ],
      "text/plain": [
       "                                               image_path\n",
       "0       /ssd/mlrom/Data/coco2017/train2017/00000000000...\n",
       "1       /ssd/mlrom/Data/coco2017/train2017/00000000002...\n",
       "2       /ssd/mlrom/Data/coco2017/train2017/00000000003...\n",
       "3       /ssd/mlrom/Data/coco2017/train2017/00000000003...\n",
       "4       /ssd/mlrom/Data/coco2017/train2017/00000000003...\n",
       "...                                                   ...\n",
       "118282  /ssd/mlrom/Data/coco2017/train2017/00000058190...\n",
       "118283  /ssd/mlrom/Data/coco2017/train2017/00000058190...\n",
       "118284  /ssd/mlrom/Data/coco2017/train2017/00000058191...\n",
       "118285  /ssd/mlrom/Data/coco2017/train2017/00000058192...\n",
       "118286  /ssd/mlrom/Data/coco2017/train2017/00000058192...\n",
       "\n",
       "[118287 rows x 1 columns]"
      ]
     },
     "execution_count": 27,
     "metadata": {},
     "output_type": "execute_result"
    }
   ],
   "source": [
    "import pandas as pd\n",
    "pd.read_parquet('/home/junjie/test/reference/emb_coco_train_ref/metadata/metadata_0.parquet', engine='pyarrow')"
   ]
  },
  {
   "cell_type": "code",
   "execution_count": 1,
   "id": "6b81640f",
   "metadata": {},
   "outputs": [
    {
     "name": "stderr",
     "output_type": "stream",
     "text": [
      "100%|█████████████████████████████████████████████████████████████████████████████████████████████████| 1/1 [00:00<00:00, 5184.55it/s]\n"
     ]
    },
    {
     "name": "stdout",
     "output_type": "stream",
     "text": [
      "There are 118287 embeddings of dim 768\n"
     ]
    },
    {
     "name": "stderr",
     "output_type": "stream",
     "text": [
      "100%|███████████████████████████████████████████████████████████████████████████████████████████████████| 4/4 [00:00<00:00,  5.96it/s]"
     ]
    },
    {
     "name": "stdout",
     "output_type": "stream",
     "text": [
      "(118287, 768)\n"
     ]
    },
    {
     "name": "stderr",
     "output_type": "stream",
     "text": [
      "\n"
     ]
    }
   ],
   "source": [
    "from embedding_reader import EmbeddingReader\n",
    "\n",
    "embedding_reader = EmbeddingReader(\n",
    "    embeddings_folder=\"/home/junjie/test/reference/emb_coco_train_ref_l14/img_emb\",\n",
    "    file_format=\"parquet_npy\",\n",
    "    #file_format =\"npy\",\n",
    "    embedding_column=\"embedding\",\n",
    "    metadata_folder=\"/home/junjie/test/reference/emb_coco_train_ref_l14/metadata\",\n",
    "    meta_columns=[\"image_path\"],\n",
    ")\n",
    "\n",
    "nb_vectors = embedding_reader.count\n",
    "vec_dim = embedding_reader.dimension\n",
    "print(\"There are {} embeddings of dim {}\".format(nb_vectors, vec_dim))\n",
    "\n",
    "for embs, meta in embedding_reader(batch_size=10**6, start=0, end=embedding_reader.count):\n",
    "    print(embs.shape)"
   ]
  },
  {
   "cell_type": "code",
   "execution_count": 22,
   "id": "cda10926",
   "metadata": {},
   "outputs": [
    {
     "name": "stdout",
     "output_type": "stream",
     "text": [
      "(2, 768)\n",
      "(2, 1)\n",
      "          0\n",
      "0  0.039118\n",
      "1 -0.039118\n",
      "[[ 0.03911775]\n",
      " [-0.03911841]]\n"
     ]
    }
   ],
   "source": [
    "import pandas as pd\n",
    "l14_weight = pd.read_csv('/home/junjie/git/clip-retrieval-aizip/classifier/l14_weight.csv', sep=' ', header=None)\n",
    "l14_bias = pd.read_csv('/home/junjie/git/clip-retrieval-aizip/classifier/l14_bias.csv', sep=' ', header=None)\n",
    "print(l14_weight.shape)\n",
    "print(l14_bias.shape)\n",
    "print(l14_bias)\n",
    "print(l14_bias.to_numpy().reshape((-1,1)))"
   ]
  },
  {
   "cell_type": "code",
   "execution_count": 27,
   "id": "79f0adfe",
   "metadata": {},
   "outputs": [
    {
     "name": "stdout",
     "output_type": "stream",
     "text": [
      "(2,)\n",
      "[-0.01132164  0.02359465]\n",
      "-----------\n",
      "(2, 1)\n",
      "[[-0.01132164]\n",
      " [ 0.02359465]]\n",
      "-----------\n",
      "(2, 1)\n",
      "[[ 0.02779611]\n",
      " [-0.01552375]]\n",
      "-----------\n",
      "Result 0: 0.027796105390516468\n",
      "Result 1:-0.015523751798773022\n",
      "-----------\n",
      "Final result: 0\n",
      "-----------\n",
      "type after reshape: <class 'numpy.ndarray'>, type of bias: <class 'numpy.ndarray'>, type after add: <class 'numpy.ndarray'>\n",
      "res in list: [[0.027796105390516468], [-0.015523751798773022]]\n"
     ]
    }
   ],
   "source": [
    "# Short test\n",
    "import numpy as np\n",
    "i = 80\n",
    "res_tmp = np.dot(l14_weight, embs[i])\n",
    "print(res_tmp.shape)\n",
    "print(res_tmp)\n",
    "print(\"-----------\")\n",
    "res_reshape = res_tmp.reshape((-1,1))\n",
    "print(res_reshape.shape)\n",
    "print(res_reshape)\n",
    "print(\"-----------\")\n",
    "res = np.add(res_reshape,l14_bias.to_numpy())\n",
    "print(res.shape)\n",
    "print(res)\n",
    "print(\"-----------\")\n",
    "print(\"Result 0: {}\\nResult 1:{}\".format(res[0][0], res[1][0]))\n",
    "print(\"-----------\")\n",
    "res_fi = 0 if res[0][0]>res[1][0] else 1\n",
    "print(\"Final result: {}\".format(res_fi))\n",
    "meta[\"image_path\"][i]\n",
    "print(\"-----------\")\n",
    "print(\"type after reshape: {}, type of bias: {}, type after add: {}\".format(type(res_reshape), type(l14_bias.to_numpy()), type(res)))\n",
    "print(\"res in list: {}\".format(res.tolist()))"
   ]
  },
  {
   "cell_type": "code",
   "execution_count": 30,
   "id": "f1925cb5",
   "metadata": {},
   "outputs": [],
   "source": [
    "# Run classifier over all emb\n",
    "\n",
    "total_results = []\n",
    "for idx, emb in enumerate(embs):\n",
    "    single_dict = {}\n",
    "    res_tmp = np.add(np.dot(l14_weight, emb).reshape(-1,1),l14_bias.to_numpy())\n",
    "    single_dict[\"classify_tmp_res\"] = res_tmp.tolist()\n",
    "    single_dict[\"classify_res\"] = 0 if res_tmp[0][0]>res_tmp[1][0] else 1\n",
    "    single_dict[\"image_path\"] = meta[\"image_path\"][idx]\n",
    "    total_results.append(single_dict)"
   ]
  },
  {
   "cell_type": "code",
   "execution_count": 31,
   "id": "e519b95e",
   "metadata": {},
   "outputs": [
    {
     "name": "stdout",
     "output_type": "stream",
     "text": [
      "118287\n",
      "{'classify_tmp_res': [[0.14625618030281023], [-0.1379117523705332]], 'classify_res': 0, 'image_path': '/ssd/mlrom/Data/coco2017/train2017/000000000009.jpg'}\n"
     ]
    }
   ],
   "source": [
    "print(len(total_results))\n",
    "print(total_results[0])"
   ]
  },
  {
   "cell_type": "code",
   "execution_count": 32,
   "id": "e776e05f",
   "metadata": {},
   "outputs": [],
   "source": [
    "import pandas as pd\n",
    "\n",
    "write_df = pd.DataFrame.from_dict(total_results)\n",
    "write_df.to_parquet(\"/home/junjie/test/reference/emb_coco_train_ref_l14/classifier.parquet\")\n",
    "\n",
    "#import pyarrow as pa\n",
    "#table = pa.Table.from_pandas(write_df)"
   ]
  },
  {
   "cell_type": "code",
   "execution_count": null,
   "id": "1355d777",
   "metadata": {},
   "outputs": [],
   "source": []
  }
 ],
 "metadata": {
  "kernelspec": {
   "display_name": "clip",
   "language": "python",
   "name": "clip"
  },
  "language_info": {
   "codemirror_mode": {
    "name": "ipython",
    "version": 3
   },
   "file_extension": ".py",
   "mimetype": "text/x-python",
   "name": "python",
   "nbconvert_exporter": "python",
   "pygments_lexer": "ipython3",
   "version": "3.8.16"
  }
 },
 "nbformat": 4,
 "nbformat_minor": 5
}
