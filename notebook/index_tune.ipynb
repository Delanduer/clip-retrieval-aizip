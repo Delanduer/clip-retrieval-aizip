{
 "cells": [
  {
   "cell_type": "code",
   "execution_count": null,
   "metadata": {},
   "outputs": [],
   "source": [
    "import faiss\n",
    "import fsspec\n",
    "\n",
    "index_path = \"/nfs/ssd14/projects/junjie/laion400m_index1/image.index\"\n",
    "\n",
    "if isinstance(index_path, str):\n",
    "    with fsspec.open(index_path, \"rb\").open() as f:\n",
    "        index = faiss.read_index(faiss.PyCallbackIOReader(f.read))\n",
    "\n",
    "print(type(index))\n",
    "\n",
    "index_gpu = faiss.index_cpu_to_gpus_list(\n",
    "    index= index,\n",
    "    ngpu= 2,\n",
    ")"
   ]
  },
  {
   "cell_type": "code",
   "execution_count": null,
   "metadata": {},
   "outputs": [],
   "source": [
    "type(index_gpu)\n",
    "output_index_path = \"/home/junjie/junjie/index_factory/test_index_gpu_small\" + \"index1_gpu_test\"\n",
    "with fsspec.open(output_index_path, \"wb\").open() as f:\n",
    "    faiss.write_index(index_gpu, faiss.PyCallbackIOWriter(f.write))"
   ]
  },
  {
   "cell_type": "code",
   "execution_count": null,
   "metadata": {},
   "outputs": [],
   "source": []
  }
 ],
 "metadata": {
  "kernelspec": {
   "display_name": "servertest",
   "language": "python",
   "name": "python3"
  },
  "language_info": {
   "codemirror_mode": {
    "name": "ipython",
    "version": 3
   },
   "file_extension": ".py",
   "mimetype": "text/x-python",
   "name": "python",
   "nbconvert_exporter": "python",
   "pygments_lexer": "ipython3",
   "version": "3.9.17"
  },
  "orig_nbformat": 4
 },
 "nbformat": 4,
 "nbformat_minor": 2
}
