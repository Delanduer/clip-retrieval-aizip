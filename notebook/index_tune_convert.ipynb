{
 "cells": [
  {
   "cell_type": "code",
   "execution_count": 3,
   "metadata": {},
   "outputs": [
    {
     "name": "stdout",
     "output_type": "stream",
     "text": [
      "<class 'faiss.swigfaiss_avx2.IndexPreTransform'>\n"
     ]
    },
    {
     "ename": "",
     "evalue": "",
     "output_type": "error",
     "traceback": [
      "\u001b[1;31mThe Kernel crashed while executing code in the the current cell or a previous cell. Please review the code in the cell(s) to identify a possible cause of the failure. Click <a href='https://aka.ms/vscodeJupyterKernelCrash'>here</a> for more info. View Jupyter <a href='command:jupyter.viewOutput'>log</a> for further details."
     ]
    }
   ],
   "source": [
    "import faiss\n",
    "import fsspec\n",
    "\n",
    "index_path = \"/home/junjie/junjie/index_factory/laion_PQ48/image.index\"\n",
    "#index_path = \"\"\n",
    "\n",
    "if isinstance(index_path, str):\n",
    "    with fsspec.open(index_path, \"rb\").open() as f:\n",
    "        index = faiss.read_index(faiss.PyCallbackIOReader(f.read))\n",
    "\n",
    "print(type(index))\n",
    "\n",
    "index_gpu = faiss.index_cpu_to_gpus_list(\n",
    "    index= index,\n",
    "    gpus= [0,1],\n",
    ")"
   ]
  },
  {
   "cell_type": "code",
   "execution_count": null,
   "metadata": {},
   "outputs": [],
   "source": [
    "type(index_gpu)\n",
    "import os\n",
    "output_index_path = os.path.join(\"/home/junjie/junjie/index_factory/laion_PQ48_GPU\", \"image.index\")\n",
    "with fsspec.open(output_index_path, \"wb\").open() as f:\n",
    "    faiss.write_index(index_gpu, faiss.PyCallbackIOWriter(f.write))"
   ]
  },
  {
   "cell_type": "code",
   "execution_count": null,
   "metadata": {},
   "outputs": [],
   "source": []
  }
 ],
 "metadata": {
  "kernelspec": {
   "display_name": "servertest",
   "language": "python",
   "name": "python3"
  },
  "language_info": {
   "codemirror_mode": {
    "name": "ipython",
    "version": 3
   },
   "file_extension": ".py",
   "mimetype": "text/x-python",
   "name": "python",
   "nbconvert_exporter": "python",
   "pygments_lexer": "ipython3",
   "version": "3.9.17"
  },
  "orig_nbformat": 4
 },
 "nbformat": 4,
 "nbformat_minor": 2
}
