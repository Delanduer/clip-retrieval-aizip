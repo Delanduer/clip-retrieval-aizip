{
 "cells": [
  {
   "cell_type": "code",
   "execution_count": null,
   "metadata": {},
   "outputs": [],
   "source": [
    "import http.client"
   ]
  },
  {
   "cell_type": "code",
   "execution_count": null,
   "metadata": {},
   "outputs": [],
   "source": [
    "payload=\"\"\n",
    "headers={}"
   ]
  },
  {
   "cell_type": "code",
   "execution_count": null,
   "metadata": {},
   "outputs": [],
   "source": [
    "conn = http.client.HTTPConnection(\n",
    "    host=\"127.0.0.1\",\n",
    "    port=13005,\n",
    "    #timeout=10,\n",
    ")"
   ]
  },
  {
   "cell_type": "code",
   "execution_count": null,
   "metadata": {},
   "outputs": [],
   "source": [
    "conn.request(\"GET\", \"/config.json\", headers={\"Host\": \"http://localhost\", \"Accept\": \"text/html\"})\n",
    "res =conn.getresponse()\n",
    "data =res.read()\n",
    "\n",
    "print(data.decode(\"utf-8\"))"
   ]
  },
  {
   "cell_type": "code",
   "execution_count": null,
   "metadata": {},
   "outputs": [],
   "source": [
    "conn.request(\"GET\", \"/indices-list\",) #headers={\"Host\": \"http://localhost\", \"Accept\": \"text/html\"})\n",
    "res =conn.getresponse()\n",
    "data =res.read().decode(\"utf-8\").strip().strip('[\"').strip('\"]')\n",
    "\n",
    "print(data)\n",
    "listed_data = data.replace('\\\\\\\\','\\\\' ).split(\",\")\n",
    "print(len(listed_data))\n",
    "print(listed_data)\n"
   ]
  },
  {
   "cell_type": "code",
   "execution_count": null,
   "metadata": {},
   "outputs": [],
   "source": [
    "#query image\n",
    "import base64\n",
    "with open(r\"C:\\Users\\wjjbf\\OneDrive\\图片\\U2231P28T3D1598721F326DT20070615143344.jpg\", \"rb\") as img_file:\n",
    "    img_bin = base64.b64encode(img_file.read())\n",
    "\n",
    "print(img_bin)\n",
    "\n",
    "import json\n",
    "payload = {\n",
    "    'image': img_bin.decode(\"utf-8\"),\n",
    "    'modality': 'image',\n",
    "    'num_images': 5,\n",
    "    #'indice_name': 'C:\\\\Users\\\\wjjbf\\\\Documents\\\\Git\\\\clip-retrieval-aizip\\\\test_index_local\\\\laion400m_index1',\n",
    "    'indice_name': 'C:\\\\\\\\Users\\\\\\\\wjjbf\\\\\\\\Documents\\\\\\\\Git\\\\\\\\clip-retrieval-aizip\\\\\\\\test_index_local\\\\\\\\laion400m_index1',\n",
    "    #'indice_name': 'C:\\\\\\\\\\\\\\\\Users\\\\\\\\\\\\\\\\wjjbf\\\\\\\\\\\\\\\\Documents\\\\\\\\\\\\\\\\Git\\\\\\\\\\\\\\\\clip-retrieval-aizip\\\\\\\\\\\\\\\\test_index_local\\\\\\\\\\\\\\\\laion400m_index1',\n",
    "\n",
    "}\n",
    "headers = {'content-type': 'application/json', 'Accept': 'application/json'}\n",
    "conn.request(\"POST\", \"/knn-service\", body=json.dumps(payload), headers=headers)\n",
    "res_raw = conn.getresponse()\n",
    "res = res_raw.read().decode(\"utf-8\")\n",
    "\n",
    "print(res)\n"
   ]
  },
  {
   "cell_type": "code",
   "execution_count": null,
   "metadata": {},
   "outputs": [],
   "source": [
    "# verification of query results\n",
    "import pandas as pd\n",
    "url_captions = pd.DataFrame([(data['image_path'], data['id'], data['similarity']) for data in json.loads(res)], columns=[\"image_path\", \"id\", \"similarity\"])\n",
    "from IPython.display import Image, display\n",
    "verify_image1 = Image(filename=url_captions[\"image_path\"][0])\n",
    "display(verify_image1)"
   ]
  },
  {
   "cell_type": "code",
   "execution_count": null,
   "metadata": {},
   "outputs": [],
   "source": [
    "import numpy as np\n",
    "\n",
    "l14_weight = np.genfromtxt('../classifier/l14_weight.csv', delimiter=' ')\n",
    "\n",
    "import json\n",
    "payload = {\n",
    "    'embedding_input': l14_weight[0,:].tolist(),\n",
    "    'modality': 'image',\n",
    "    'num_images': 5,\n",
    "    #'indice_name': 'C:\\\\Users\\\\wjjbf\\\\Documents\\\\Git\\\\clip-retrieval-aizip\\\\test_index_local\\\\laion400m_index1',\n",
    "    'indice_name': 'C:\\\\\\\\Users\\\\\\\\wjjbf\\\\\\\\Documents\\\\\\\\Git\\\\\\\\clip-retrieval-aizip\\\\\\\\test_index_local\\\\\\\\laion400m_index1',\n",
    "    #'indice_name': 'C:\\\\\\\\\\\\\\\\Users\\\\\\\\\\\\\\\\wjjbf\\\\\\\\\\\\\\\\Documents\\\\\\\\\\\\\\\\Git\\\\\\\\\\\\\\\\clip-retrieval-aizip\\\\\\\\\\\\\\\\test_index_local\\\\\\\\\\\\\\\\laion400m_index1',\n",
    "\n",
    "}\n",
    "headers = {'content-type': 'application/json', 'Accept': 'application/json'}\n",
    "conn.request(\"POST\", \"/knn-service\", body=json.dumps(payload), headers=headers)\n",
    "res_raw = conn.getresponse()\n",
    "res = res_raw.read().decode(\"utf-8\")\n",
    "\n",
    "print(res)\n"
   ]
  },
  {
   "cell_type": "code",
   "execution_count": null,
   "metadata": {},
   "outputs": [],
   "source": []
  }
 ],
 "metadata": {
  "kernelspec": {
   "display_name": "clip_aizip",
   "language": "python",
   "name": "python3"
  },
  "language_info": {
   "codemirror_mode": {
    "name": "ipython",
    "version": 3
   },
   "file_extension": ".py",
   "mimetype": "text/x-python",
   "name": "python",
   "nbconvert_exporter": "python",
   "pygments_lexer": "ipython3",
   "version": "3.9.17"
  },
  "orig_nbformat": 4
 },
 "nbformat": 4,
 "nbformat_minor": 2
}
