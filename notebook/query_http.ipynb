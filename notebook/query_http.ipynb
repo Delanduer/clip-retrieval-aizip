{
 "cells": [
  {
   "cell_type": "code",
   "execution_count": null,
   "metadata": {},
   "outputs": [],
   "source": [
    "import http.client\n",
    "payload=\"\"\n",
    "headers={}\n",
    "conn = http.client.HTTPConnection(\n",
    "    host=\"127.0.0.1\",\n",
    "    port=13005,\n",
    "    #timeout=10,\n",
    ")"
   ]
  },
  {
   "cell_type": "code",
   "execution_count": null,
   "metadata": {},
   "outputs": [],
   "source": [
    "#conn.request(\"GET\", \"/config.json\", headers={\"Host\": \"http://localhost\", \"Accept\": \"text/html\"})\n",
    "#res =conn.getresponse()\n",
    "#data =res.read()\n",
    "#\n",
    "#print(data.decode(\"utf-8\"))"
   ]
  },
  {
   "cell_type": "code",
   "execution_count": null,
   "metadata": {},
   "outputs": [],
   "source": [
    "import json\n",
    "conn.request(\"GET\", \"/indices-list\", headers={'aizip-token': \"akljnv13bvi2vfo0b0bw\"})\n",
    "res =conn.getresponse()\n",
    "data =res.read().decode(\"utf-8\").strip().strip('[\"').strip('\"]')\n",
    "\n",
    "print(data)\n",
    "listed_data = data.replace('\\\\\\\\','\\\\' ).split(\",\")\n",
    "print(len(listed_data))\n",
    "print(listed_data)\n"
   ]
  },
  {
   "cell_type": "code",
   "execution_count": null,
   "metadata": {},
   "outputs": [],
   "source": [
    "#query image\n",
    "import base64\n",
    "with open(r\"C:\\Users\\wjjbf\\OneDrive\\图片\\U2231P28T3D1598721F326DT20070615143344.jpg\", \"rb\") as img_file:\n",
    "    img_bin = base64.b64encode(img_file.read())\n",
    "\n",
    "print(img_bin.decode(\"utf-8\"))\n",
    "\n",
    "import json\n",
    "payload = {\n",
    "    'image': img_bin.decode(\"utf-8\"),\n",
    "    'modality': 'image',\n",
    "    'num_images': 5,\n",
    "    #'indice_name': 'C:\\\\Users\\\\wjjbf\\\\Documents\\\\Git\\\\clip-retrieval-aizip\\\\test_index_local\\\\laion400m_index1',\n",
    "    'indice_name': 'C:\\\\\\\\Users\\\\\\\\wjjbf\\\\\\\\Documents\\\\\\\\Git\\\\\\\\clip-retrieval-aizip\\\\\\\\test_index_local\\\\\\\\laion400m_index1',\n",
    "    #'indice_name': 'C:\\\\\\\\\\\\\\\\Users\\\\\\\\\\\\\\\\wjjbf\\\\\\\\\\\\\\\\Documents\\\\\\\\\\\\\\\\Git\\\\\\\\\\\\\\\\clip-retrieval-aizip\\\\\\\\\\\\\\\\test_index_local\\\\\\\\\\\\\\\\laion400m_index1',\n",
    "    #'aizip-token': 'akljnv13bvi2vfo0b0bw',\n",
    "}\n",
    "headers = {\n",
    "    #'Content-Type': \"multipart/form-data\",\n",
    "    'Content-Type': \"application/json\",\n",
    "    #'content-type': \"application/-www-form-urlencoded\", \n",
    "    #'Accept': \"application/x-www-form-urlencoded\",\n",
    "    'Accept': \"application/json\",\n",
    "    'aizip-token': \"akljnv13bvi2vfo0b0bw\",\n",
    "}\n",
    "conn.request(\"POST\", \"/knn-service\", body=json.dumps(payload), headers=headers)\n",
    "#conn.request(\"POST\", \"/knn-service\", body=payload, headers=headers)\n",
    "res_raw = conn.getresponse()\n",
    "res = res_raw.read().decode(\"utf-8\")\n",
    "\n",
    "print(res)\n"
   ]
  },
  {
   "cell_type": "code",
   "execution_count": null,
   "metadata": {},
   "outputs": [],
   "source": [
    "# verification of query results\n",
    "import pandas as pd\n",
    "url_captions = pd.DataFrame([(data['image_path'], data['id'], data['similarity']) for data in json.loads(res)], columns=[\"image_path\", \"id\", \"similarity\"])\n",
    "from IPython.display import Image, display\n",
    "verify_image1 = Image(filename=url_captions[\"image_path\"][0])\n",
    "display(verify_image1)"
   ]
  },
  {
   "cell_type": "code",
   "execution_count": null,
   "metadata": {},
   "outputs": [],
   "source": [
    "import numpy as np\n",
    "\n",
    "l14_weight = np.genfromtxt('../classifier/l14_weight.csv', delimiter=' ')\n",
    "\n",
    "import json\n",
    "payload = {\n",
    "    'embedding_input': l14_weight[0,:].tolist(),\n",
    "    'modality': 'image',\n",
    "    'num_images': 5,\n",
    "    #'indice_name': 'C:\\\\Users\\\\wjjbf\\\\Documents\\\\Git\\\\clip-retrieval-aizip\\\\test_index_local\\\\laion400m_index1',\n",
    "    'indice_name': 'C:\\\\\\\\Users\\\\\\\\wjjbf\\\\\\\\Documents\\\\\\\\Git\\\\\\\\clip-retrieval-aizip\\\\\\\\test_index_local\\\\\\\\laion400m_index1',\n",
    "    #'indice_name': 'C:\\\\\\\\\\\\\\\\Users\\\\\\\\\\\\\\\\wjjbf\\\\\\\\\\\\\\\\Documents\\\\\\\\\\\\\\\\Git\\\\\\\\\\\\\\\\clip-retrieval-aizip\\\\\\\\\\\\\\\\test_index_local\\\\\\\\\\\\\\\\laion400m_index1',\n",
    "\n",
    "}\n",
    "headers = {\n",
    "    #'content-type': 'application/json', \n",
    "    #'Accept': 'application/json',\n",
    "    'content-type': \"application/-www-form-urlencoded\", \n",
    "    #'Accept': \"application/x-www-form-urlencoded\",\n",
    "    'aizip-token': \"akljnv13bvi2vfo0b0bw\",\n",
    "}\n",
    "conn.request(\"POST\", \"/knn-service\", body={\"modality\": \"image\", \"num_images\": 5}, headers=headers)\n",
    "res_raw = conn.getresponse()\n",
    "res = res_raw.read().decode(\"utf-8\")\n",
    "\n",
    "print(res)\n"
   ]
  },
  {
   "cell_type": "code",
   "execution_count": null,
   "metadata": {},
   "outputs": [],
   "source": [
    "import requests\n",
    "\n",
    "headers = {\n",
    "    'accept': 'application/json',\n",
    "    'aizip-token': 'akljnv13bvi2vfo0b0bw',\n",
    "    'Content-Type': 'application/json',\n",
    "}\n",
    "\n",
    "#data = '{\\n\\n}'\n",
    "\n",
    "response = requests.get('http://localhost:13005/indices-list', headers=headers)"
   ]
  },
  {
   "cell_type": "code",
   "execution_count": null,
   "metadata": {},
   "outputs": [],
   "source": [
    "## converted from https://curlconverter.com/python/\n",
    "## raw curl command retrieved from http://localhost:13005/docs#/default/post_knn_service_post \n",
    "\n",
    "#query image\n",
    "import base64\n",
    "with open(r\"C:\\Users\\wjjbf\\OneDrive\\图片\\U2231P28T3D1598721F326DT20070615143344.jpg\", \"rb\") as img_file:\n",
    "    img_bin = base64.b64encode(img_file.read())\n",
    "\n",
    "#query classifier\n",
    "import numpy as np\n",
    "l14_weight = np.genfromtxt('../classifier/l14_weight.csv', delimiter=' ')\n",
    "#print(l14_weight[0,:].tolist())\n",
    "\n",
    "import requests\n",
    "headers = {\n",
    "    'accept': 'application/json',\n",
    "    'aizip-token': 'akljnv13bvi2vfo0b0bw',\n",
    "    # requests won't add a boundary if this header is set when you pass files=\n",
    "    # 'Content-Type': 'multipart/form-data',\n",
    "}\n",
    "\n",
    "print(type(str(l14_weight[0,:].tolist())))\n",
    "#print(float(str(l14_weight[0,:].tolist())))\n",
    "\n",
    "files = {\n",
    "    'modality': (None, 'image'),\n",
    "    #'embedding_input': (None, ''), # True for none -> ''\n",
    "    'embedding_input': (None, str([\"%.10f\" % number for number in l14_weight[0,:]])),\n",
    "    'use_mclip': (None, 'false'),\n",
    "    'deduplicate': (None, 'false'),\n",
    "    'num_images': (None, '1'),\n",
    "    'use_violence_detector': (None, 'false'),\n",
    "    'use_safety_model': (None, 'false'),\n",
    "    #'image': (None, img_bin.decode(\"utf-8\")),\n",
    "    'image': (None, 'None'), # True for none -> 'None'\n",
    "    'indice_name': (None, 'C:\\\\\\\\Users\\\\\\\\wjjbf\\\\\\\\Documents\\\\\\\\Git\\\\\\\\clip-retrieval-aizip\\\\\\\\test_index_local\\\\\\\\laion400m_index1'),\n",
    "}\n",
    "\n",
    "response = requests.post('http://127.0.0.1:13005/knn-service', headers=headers, files=files)"
   ]
  },
  {
   "cell_type": "code",
   "execution_count": null,
   "metadata": {},
   "outputs": [],
   "source": [
    "print(\"Status code: {}\".format(response.status_code))\n",
    "print(\"Response': {}\".format(response.json()))"
   ]
  },
  {
   "cell_type": "code",
   "execution_count": null,
   "metadata": {},
   "outputs": [],
   "source": [
    "# don´t convert vector direct to string, it will contain \\n \n",
    "#print(l14_weight[0,:])\n",
    "#string_weight = str(l14_weight[0,:])\n",
    "\n",
    "strings = [\"%.10f\" % number for number in l14_weight[0,:]]\n",
    "print(strings) # convert each number to strings first\n",
    "\n",
    "# test conversion back to float\n",
    "reverted_float = [float(number) for number in strings[1:-2]]\n",
    "print(reverted_float)"
   ]
  },
  {
   "cell_type": "code",
   "execution_count": null,
   "metadata": {},
   "outputs": [],
   "source": [
    "print(strings[0:100])\n",
    "print(type(strings[0:100]))\n",
    "print(str(strings[0:100]))\n",
    "print(type(str(strings[0:100])))\n",
    "print(len(str(strings[0:100])))"
   ]
  },
  {
   "cell_type": "code",
   "execution_count": null,
   "metadata": {},
   "outputs": [],
   "source": [
    "# split strings into list of small string floats with delimeter \", \"\n",
    "string_float_list = str(strings[0:100])[1:-1].split(\", \")"
   ]
  },
  {
   "cell_type": "code",
   "execution_count": null,
   "metadata": {},
   "outputs": [],
   "source": [
    "print(len(string_float_list))\n",
    "print(string_float_list[0:2])"
   ]
  },
  {
   "cell_type": "code",
   "execution_count": null,
   "metadata": {},
   "outputs": [],
   "source": [
    "list_float = [float(number[2:-2]) for number in string_float_list]\n",
    "print(len(list_float))\n",
    "print(list_float[0:10])"
   ]
  },
  {
   "cell_type": "code",
   "execution_count": 1,
   "metadata": {},
   "outputs": [],
   "source": [
    "import sys\n",
    "sys.path.insert(0, '../aizip_clip_client_packaging/src/aizip_clip_query')\n",
    "\n",
    "from aizip_clip_query import ClipImgQuery, ClipClassifierQuery"
   ]
  },
  {
   "cell_type": "code",
   "execution_count": 2,
   "metadata": {},
   "outputs": [
    {
     "name": "stderr",
     "output_type": "stream",
     "text": [
      "DEBUG:urllib3.connectionpool:Starting new HTTP connection (1): 127.0.0.1:13005\n",
      "DEBUG:urllib3.connectionpool:http://127.0.0.1:13005 \"GET /config.json HTTP/1.1\" 404 22\n",
      "DEBUG:urllib3.connectionpool:Starting new HTTP connection (1): 127.0.0.1:13005\n",
      "DEBUG:urllib3.connectionpool:http://127.0.0.1:13005 \"GET /indices-list HTTP/1.1\" 200 108\n",
      "DEBUG:urllib3.connectionpool:Starting new HTTP connection (1): 127.0.0.1:13005\n"
     ]
    },
    {
     "name": "stdout",
     "output_type": "stream",
     "text": [
      "Available indices: <Response [404]>\n",
      "Available indices: <Response [200]>\n",
      "index_name: C:\\\\Users\\\\wjjbf\\\\Documents\\\\Git\\\\clip-retrieval-aizip\\\\test_index_local\\\\laion400m_index1 with type: <class 'str'>\n",
      "payload: {'image': (None, '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'), 'embedding_input': (None, ''), 'modality': (None, 'image'), 'use_mclip': (None, 'false'), 'deduplicate': (None, 'false'), 'num_images': (None, '1'), 'use_violence_detector': (None, 'false'), 'use_safety_model': (None, 'false'), 'indice_name': (None, 'C:\\\\\\\\Users\\\\\\\\wjjbf\\\\\\\\Documents\\\\\\\\Git\\\\\\\\clip-retrieval-aizip\\\\\\\\test_index_local\\\\\\\\laion400m_index1')}\n"
     ]
    },
    {
     "name": "stderr",
     "output_type": "stream",
     "text": [
      "DEBUG:urllib3.connectionpool:http://127.0.0.1:13005 \"POST /knn-service HTTP/1.1\" 200 132\n"
     ]
    },
    {
     "name": "stdout",
     "output_type": "stream",
     "text": [
      "Status code: 200\n"
     ]
    },
    {
     "data": {
      "text/plain": [
       "[{'image_path': '/nfs/ssd2/data/laion400m/laion400m-data-00-img/i00/00447/004476120.jpg',\n",
       "  'id': 53585,\n",
       "  'similarity': 0.7785613536834717}]"
      ]
     },
     "execution_count": 2,
     "metadata": {},
     "output_type": "execute_result"
    }
   ],
   "source": [
    "img_query_instance = ClipImgQuery(\n",
    "    host_uri=\"http://127.0.0.1\",\n",
    "    port=\"13005\"\n",
    ")\n",
    "\n",
    "img_query_instance.query_for_single_image(\n",
    "    image_url= r\"C:\\Users\\wjjbf\\OneDrive\\图片\\U2231P28T3D1598721F326DT20070615143344.jpg\",\n",
    "    num_res= 1,\n",
    "    indices_idx= 0,\n",
    ")"
   ]
  },
  {
   "cell_type": "code",
   "execution_count": 2,
   "metadata": {},
   "outputs": [
    {
     "name": "stderr",
     "output_type": "stream",
     "text": [
      "DEBUG:urllib3.connectionpool:Starting new HTTP connection (1): 127.0.0.1:13005\n",
      "DEBUG:urllib3.connectionpool:http://127.0.0.1:13005 \"GET /config.json HTTP/1.1\" 404 22\n",
      "DEBUG:urllib3.connectionpool:Starting new HTTP connection (1): 127.0.0.1:13005\n",
      "DEBUG:urllib3.connectionpool:http://127.0.0.1:13005 \"GET /indices-list HTTP/1.1\" 200 108\n",
      "DEBUG:urllib3.connectionpool:Starting new HTTP connection (1): 127.0.0.1:13005\n",
      "DEBUG:urllib3.connectionpool:http://127.0.0.1:13005 \"POST /knn-service HTTP/1.1\" 200 124\n"
     ]
    },
    {
     "name": "stdout",
     "output_type": "stream",
     "text": [
      "Available indices: <Response [404]>\n",
      "Available indices: <Response [200]>\n",
      "index_name: C:\\\\Users\\\\wjjbf\\\\Documents\\\\Git\\\\clip-retrieval-aizip\\\\test_index_local\\\\laion400m_index1 with type: <class 'str'>\n",
      "Status code: 200\n"
     ]
    },
    {
     "data": {
      "text/plain": [
       "[{'image_path': '/nfs/ssd2/data/laion400m/laion400m-data-00-img/i00/00822/008223634.jpg',\n",
       "  'id': 365906,\n",
       "  'similarity': 2610200.0}]"
      ]
     },
     "execution_count": 2,
     "metadata": {},
     "output_type": "execute_result"
    }
   ],
   "source": [
    "query_cls = ClipClassifierQuery(\n",
    "    port=\"13005\"\n",
    ")\n",
    "\n",
    "query_cls.query_for_csv(\n",
    "    csv_file = r'C:\\Users\\wjjbf\\Documents\\Git\\clip-retrieval-aizip\\classifier\\l14_weight.csv',\n",
    ")"
   ]
  }
 ],
 "metadata": {
  "kernelspec": {
   "display_name": "clip_aizip",
   "language": "python",
   "name": "python3"
  },
  "language_info": {
   "codemirror_mode": {
    "name": "ipython",
    "version": 3
   },
   "file_extension": ".py",
   "mimetype": "text/x-python",
   "name": "python",
   "nbconvert_exporter": "python",
   "pygments_lexer": "ipython3",
   "version": "3.9.17"
  },
  "orig_nbformat": 4
 },
 "nbformat": 4,
 "nbformat_minor": 2
}
