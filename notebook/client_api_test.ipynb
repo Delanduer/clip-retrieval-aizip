{
 "cells": [
  {
   "cell_type": "code",
   "execution_count": null,
   "metadata": {},
   "outputs": [],
   "source": [
    "from aizip_clip_query import ClipClassifierQuery, ClipImgQuery\n",
    "\n",
    "classifier_query = ClipClassifierQuery(\n",
    "    host_uri = \"http://127.0.0.1\",\n",
    "    port = \"13005\",\n",
    ")\n",
    "\n",
    "img_query = ClipImgQuery(\n",
    "    host_uri = \"http://127.0.0.1\",\n",
    "    port = \"13005\",\n",
    ")"
   ]
  },
  {
   "cell_type": "code",
   "execution_count": null,
   "metadata": {},
   "outputs": [],
   "source": [
    "image_q = img_query.query_for_single_image(\n",
    "    image_url = \"/home/junjie/junjie/clip_retrieval/testimages/indian-bride-1181855.jpg\",\n",
    "    #image_url = \"/nfs/ssd8/data/laion400m/laion400m-data-20-img/i20/00393/003938917.jpg\",\n",
    "    num_res= 100000,\n",
    "    print_res=False,\n",
    "    #save_in_file = \"/home/junjie/junjie/clip_retrieval/scripts/res10.html\"\n",
    ")\n",
    "print(\"type and length of response {}, {} and type and length of response 0 {}, {}.\".format(\n",
    "    type(image_q), \n",
    "    len(image_q), \n",
    "    type(image_q[0]),\n",
    "    len(image_q[0]),\n",
    "))\n",
    "\n",
    "#print(image_q)"
   ]
  },
  {
   "cell_type": "code",
   "execution_count": null,
   "metadata": {},
   "outputs": [],
   "source": [
    "from IPython.display import HTML\n",
    "import pandas as pd\n",
    "for idx, result in enumerate(image_q):\n",
    "    print(type(result))\n",
    "    res_table = pd.DataFrame(\n",
    "        [(e['image_path'], e['id'], e['similarity']) for e in result],\n",
    "        #[(result['image_path'], result['id'], result['similarity'])],\n",
    "        columns=[\"image_path\", \"id\", \"similarity\"],\n",
    "    )\n",
    "    print(\"====================================\")\n",
    "    print(\"======= results for image {} =======\".format(idx))\n",
    "    #print(res_table)\n",
    "    HTML(res_table.to_html(classes='table table-stripped'))\n",
    "    #display(res_table)\n",
    "    text_file = open(\"res_table.html\", \"w\")\n",
    "    text_file.write(res_table.to_html())\n",
    "    text_file.close()"
   ]
  },
  {
   "cell_type": "code",
   "execution_count": 10,
   "metadata": {},
   "outputs": [
    {
     "name": "stdout",
     "output_type": "stream",
     "text": [
      "Accept only images with .jpg format!!\n",
      "index_name: /home/junjie/junjie/index_factory/laion_PQ48 with type: <class 'str'>\n",
      "Status code: 200\n",
      "Total time for query: 0:05:47.283360\n",
      "type and length of response <class 'list'>, 9497 and type and length of response 0 <class 'list'>, 1.\n"
     ]
    }
   ],
   "source": [
    "image_batch_small = img_query.query_for_image_dir(\n",
    "    dir = \"/home/junjie/junjie/9497_images\",\n",
    "    #dir = \"/home/junjie/junjie/testimages\",\n",
    "    num_res= 1,\n",
    "    print_res=False\n",
    "    #save_in_file= \"\",\n",
    ")\n",
    "\n",
    "print(\"type and length of response {}, {} and type and length of response 0 {}, {}.\".format(\n",
    "    type(image_batch_small), \n",
    "    len(image_batch_small), \n",
    "    type(image_batch_small[0]),\n",
    "    len(image_batch_small[0]),\n",
    "))\n"
   ]
  },
  {
   "cell_type": "code",
   "execution_count": null,
   "metadata": {},
   "outputs": [],
   "source": [
    "csv_embeddings = classifier_query.query_for_csv(\n",
    "    csv_file = \"/home/junjie/junjie/clip_retrieval/classifier/l14_weight.csv\",\n",
    "    csv_idx=[0,1],\n",
    ")\n",
    "\n",
    "csv_embeddings"
   ]
  },
  {
   "cell_type": "code",
   "execution_count": null,
   "metadata": {},
   "outputs": [],
   "source": [
    "image_path = \"/nfs/ssd8/data/laion400m/laion400m-data-20-img/i20/00393/003938917.jpg\"\n",
    "from PIL import Image\n",
    "\n",
    "im = Image.open(image_path)\n",
    " \n",
    "im.show()"
   ]
  },
  {
   "cell_type": "code",
   "execution_count": null,
   "metadata": {},
   "outputs": [],
   "source": [
    "img_dir = \"/home/junjie/junjie/clip_retrieval/testimages/\"\n",
    "from pathlib import Path\n",
    "images = Path(img_dir).glob(\"*.jpg\")\n",
    "\n",
    "for img in images:\n",
    "    print(img.name)"
   ]
  },
  {
   "cell_type": "code",
   "execution_count": null,
   "metadata": {},
   "outputs": [],
   "source": []
  }
 ],
 "metadata": {
  "kernelspec": {
   "display_name": "Python 3 (ipykernel)",
   "language": "python",
   "name": "python3"
  },
  "language_info": {
   "codemirror_mode": {
    "name": "ipython",
    "version": 3
   },
   "file_extension": ".py",
   "mimetype": "text/x-python",
   "name": "python",
   "nbconvert_exporter": "python",
   "pygments_lexer": "ipython3",
   "version": "3.8.18"
  }
 },
 "nbformat": 4,
 "nbformat_minor": 2
}
