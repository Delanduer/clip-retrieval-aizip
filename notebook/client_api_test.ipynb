{
 "cells": [
  {
   "cell_type": "code",
   "execution_count": null,
   "metadata": {},
   "outputs": [],
   "source": [
    "import sys, os\n",
    "sys.path.insert(0, '../aizip_clip_client_packaging/src/aizip_clip_query')\n",
    "from aizip_clip_query import ClipClassifierQuery, ClipImgQuery, ClipBaseQuery\n",
    "\n",
    "classifier_query = ClipClassifierQuery(\n",
    "    host_uri = \"127.0.0.1\",\n",
    "    port = 13005,\n",
    ")\n",
    "\n",
    "img_query = ClipImgQuery(\n",
    "    host_uri = \"127.0.0.1\",\n",
    "    port = 13005,\n",
    ")"
   ]
  },
  {
   "cell_type": "code",
   "execution_count": null,
   "metadata": {},
   "outputs": [],
   "source": [
    "image_q = img_query.query_for_single_image(\n",
    "    image_url = r\"C:\\Users\\wjjbf\\OneDrive\\图片\\U2231P28T3D1598721F326DT20070615143344.jpg\"\n",
    ")"
   ]
  },
  {
   "cell_type": "code",
   "execution_count": null,
   "metadata": {},
   "outputs": [],
   "source": [
    "csv_embeddings = classifier_query.query_for_csv(\n",
    "    csv_file = r\"../classifier/l14_weight.csv\"\n",
    ")"
   ]
  }
 ],
 "metadata": {
  "kernelspec": {
   "display_name": "Python 3 (ipykernel)",
   "language": "python",
   "name": "python3"
  },
  "language_info": {
   "codemirror_mode": {
    "name": "ipython",
    "version": 3
   },
   "file_extension": ".py",
   "mimetype": "text/x-python",
   "name": "python",
   "nbconvert_exporter": "python",
   "pygments_lexer": "ipython3",
   "version": "3.9.17"
  }
 },
 "nbformat": 4,
 "nbformat_minor": 2
}
