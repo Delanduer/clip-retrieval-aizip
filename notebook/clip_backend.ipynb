{
 "cells": [
  {
   "cell_type": "code",
   "execution_count": 1,
   "metadata": {},
   "outputs": [
    {
     "name": "stderr",
     "output_type": "stream",
     "text": [
      "c:\\Users\\wjjbf\\anaconda3\\envs\\clip_aizip\\lib\\site-packages\\tqdm\\auto.py:22: TqdmWarning: IProgress not found. Please update jupyter and ipywidgets. See https://ipywidgets.readthedocs.io/en/stable/user_install.html\n",
      "  from .autonotebook import tqdm as notebook_tqdm\n"
     ]
    }
   ],
   "source": [
    "from clip_retrieval.clip_back import clip_back_test"
   ]
  },
  {
   "cell_type": "code",
   "execution_count": 2,
   "metadata": {},
   "outputs": [
    {
     "name": "stdout",
     "output_type": "stream",
     "text": [
      "starting boot of clip back\n"
     ]
    },
    {
     "name": "stderr",
     "output_type": "stream",
     "text": [
      "c:\\Users\\wjjbf\\anaconda3\\envs\\clip_aizip\\lib\\site-packages\\clip\\clip.py:160: FutureWarning: 'torch.onnx._patch_torch._node_getitem' is deprecated in version 1.13 and will be removed in version 1.14. Please Internally use '_node_get' in symbolic_helper instead..\n",
      "  if \"value\" in node.attributeNames() and str(node[\"value\"]).startswith(\"cuda\"):\n"
     ]
    },
    {
     "name": "stdout",
     "output_type": "stream",
     "text": [
      "warming up with batch size 1 on cuda\n",
      "done warming up in 6.748109817504883s\n"
     ]
    },
    {
     "name": "stderr",
     "output_type": "stream",
     "text": [
      "Some weights of the model checkpoint at xlm-roberta-large were not used when initializing XLMRobertaModel: ['lm_head.bias', 'lm_head.decoder.weight', 'lm_head.layer_norm.bias', 'lm_head.dense.weight', 'lm_head.dense.bias', 'lm_head.layer_norm.weight']\n",
      "- This IS expected if you are initializing XLMRobertaModel from the checkpoint of a model trained on another task or with another architecture (e.g. initializing a BertForSequenceClassification model from a BertForPreTraining model).\n",
      "- This IS NOT expected if you are initializing XLMRobertaModel from the checkpoint of a model that you expect to be exactly identical (initializing a BertForSequenceClassification model from a BertForSequenceClassification model).\n"
     ]
    },
    {
     "name": "stdout",
     "output_type": "stream",
     "text": [
      "loading indices: image_present: True, text_present: False\n",
      "indices loaded\n",
      " * Serving Flask app 'clip_retrieval.clip_back'\n",
      " * Debug mode: off\n"
     ]
    },
    {
     "name": "stderr",
     "output_type": "stream",
     "text": [
      "WARNING: This is a development server. Do not use it in a production deployment. Use a production WSGI server instead.\n",
      " * Running on http://127.0.0.1:13005\n",
      "Press CTRL+C to quit\n",
      "127.0.0.1 - - [23/Jul/2023 22:23:27] \"GET /indices-list HTTP/1.1\" 200 -\n",
      "127.0.0.1 - - [23/Jul/2023 22:23:28] \"POST /knn-service HTTP/1.1\" 400 -\n",
      "127.0.0.1 - - [23/Jul/2023 22:23:59] \"POST /knn-service HTTP/1.1\" 400 -\n",
      "127.0.0.1 - - [23/Jul/2023 22:24:09] \"POST /knn-service HTTP/1.1\" 400 -\n",
      "127.0.0.1 - - [23/Jul/2023 22:24:52] \"POST /knn-service HTTP/1.1\" 400 -\n"
     ]
    }
   ],
   "source": [
    "columns = [\"url\", \"caption\", \"image_path\"]\n",
    "clip_back_test(\n",
    "    index_folder=r\"C:\\\\Users\\\\wjjbf\\\\Documents\\\\Git\\\\clip-retrieval-aizip\\\\test_index_local\\\\laion400m_index1\",\n",
    "    host=\"127.0.0.1\",\n",
    "    port=13005,\n",
    "    columns_to_return=columns,\n",
    "    reorder_metadata_by_ivf_index=False,\n",
    "    enable_mclip_option=True,\n",
    "    clip_model=\"ViT-L/14\",\n",
    "    use_jit=True,\n",
    "    use_arrow=False,\n",
    "    provide_safety_model=False,\n",
    "    provide_violence_detector=False,\n",
    "    provide_aesthetic_embeddings=True,\n",
    ")"
   ]
  }
 ],
 "metadata": {
  "kernelspec": {
   "display_name": "clip_aizip",
   "language": "python",
   "name": "python3"
  },
  "language_info": {
   "codemirror_mode": {
    "name": "ipython",
    "version": 3
   },
   "file_extension": ".py",
   "mimetype": "text/x-python",
   "name": "python",
   "nbconvert_exporter": "python",
   "pygments_lexer": "ipython3",
   "version": "3.9.17"
  },
  "orig_nbformat": 4
 },
 "nbformat": 4,
 "nbformat_minor": 2
}
