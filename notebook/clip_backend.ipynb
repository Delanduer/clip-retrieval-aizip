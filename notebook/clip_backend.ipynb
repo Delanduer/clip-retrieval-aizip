{
 "cells": [
  {
   "cell_type": "code",
   "execution_count": null,
   "metadata": {},
   "outputs": [],
   "source": [
    "from clip_retrieval.clip_back import clip_back_test"
   ]
  },
  {
   "cell_type": "code",
   "execution_count": null,
   "metadata": {},
   "outputs": [],
   "source": [
    "columns = [\"url\", \"caption\", \"image_path\"]\n",
    "clip_back_test(\n",
    "    index_folder=\"/nfs/ssd14/projects/junjie/laion400m1/laion400mi00/\",\n",
    "    host=\"aizip.myvnc.com\",\n",
    "    port=13005,\n",
    "    columns_to_return=columns,\n",
    "    reorder_metadata_by_ivf_index=False,\n",
    "    enable_mclip_option=True,\n",
    "    clip_model=\"ViT-L/14\",\n",
    "    use_jit=True,\n",
    "    use_arrow=False,\n",
    "    provide_safety_model=False,\n",
    "    provide_violence_detector=False,\n",
    "    provide_aesthetic_embeddings=True,\n",
    ")"
   ]
  }
 ],
 "metadata": {
  "kernelspec": {
   "display_name": "clip_aizip",
   "language": "python",
   "name": "python3"
  },
  "language_info": {
   "codemirror_mode": {
    "name": "ipython",
    "version": 3
   },
   "file_extension": ".py",
   "mimetype": "text/x-python",
   "name": "python",
   "nbconvert_exporter": "python",
   "pygments_lexer": "ipython3",
   "version": "3.9.0"
  },
  "orig_nbformat": 4
 },
 "nbformat": 4,
 "nbformat_minor": 2
}
