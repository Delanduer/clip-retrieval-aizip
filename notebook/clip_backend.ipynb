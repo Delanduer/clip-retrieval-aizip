{
 "cells": [
  {
   "cell_type": "code",
   "execution_count": null,
   "metadata": {},
   "outputs": [],
   "source": [
    "#from clip_retrieval.clip_back import clip_back_test"
   ]
  },
  {
   "cell_type": "code",
   "execution_count": null,
   "metadata": {},
   "outputs": [],
   "source": [
    "import sys, os\n",
    "sys.path.insert(0, '../aizip_clip_client_packaging/src/aizip_clip_query')\n",
    "\n",
    "from aizip_clip_back import clip_back_flask, clip_back_fastapi"
   ]
  },
  {
   "cell_type": "code",
   "execution_count": null,
   "metadata": {},
   "outputs": [],
   "source": [
    "columns = [\"url\", \"caption\", \"image_path\"]\n",
    "clip_back_flask(\n",
    "    index_folder=r\"C:\\\\Users\\\\wjjbf\\\\Documents\\\\Git\\\\clip-retrieval-aizip\\\\test_index_local\\\\laion400m_index1\",\n",
    "    host=\"127.0.0.1\",\n",
    "    port=13005,\n",
    "    columns_to_return=columns,\n",
    "    reorder_metadata_by_ivf_index=False,\n",
    "    enable_mclip_option=True,\n",
    "    clip_model=\"ViT-L/14\",\n",
    "    use_jit=True,\n",
    "    use_arrow=False,\n",
    "    provide_safety_model=False,\n",
    "    provide_violence_detector=False,\n",
    "    provide_aesthetic_embeddings=True,\n",
    ")"
   ]
  },
  {
   "cell_type": "code",
   "execution_count": null,
   "metadata": {},
   "outputs": [],
   "source": [
    "columns = [\"url\", \"caption\", \"image_path\"]\n",
    "app = clip_back_fastapi(\n",
    "    index_folder=r\"C:\\\\Users\\\\wjjbf\\\\Documents\\\\Git\\\\clip-retrieval-aizip\\\\test_index_local\\\\laion400m_index1\",\n",
    "    host=\"127.0.0.1\",\n",
    "    port=13005,\n",
    "    columns_to_return=columns,\n",
    "    reorder_metadata_by_ivf_index=False,\n",
    "    enable_mclip_option=True,\n",
    "    clip_model=\"ViT-L/14\",\n",
    "    use_jit=True,\n",
    "    use_arrow=False,\n",
    "    provide_safety_model=False,\n",
    "    provide_violence_detector=False,\n",
    "    provide_aesthetic_embeddings=True,\n",
    ")"
   ]
  },
  {
   "cell_type": "code",
   "execution_count": null,
   "metadata": {},
   "outputs": [],
   "source": [
    "# not working \n",
    "import asyncio, uvicorn\n",
    "\n",
    "async def uvicorn_run():\n",
    "    await uvicorn.run(\n",
    "        app=app,\n",
    "        host=\"127.0.0.1\",\n",
    "        port=13005,\n",
    "    )\n",
    "\n",
    "async def main():\n",
    "    # run my_coroutine as a task\n",
    "    task = asyncio.create_task(uvicorn_run())\n",
    "    await task\n",
    "\n",
    "await main()"
   ]
  }
 ],
 "metadata": {
  "kernelspec": {
   "display_name": "clip_aizip",
   "language": "python",
   "name": "python3"
  },
  "language_info": {
   "codemirror_mode": {
    "name": "ipython",
    "version": 3
   },
   "file_extension": ".py",
   "mimetype": "text/x-python",
   "name": "python",
   "nbconvert_exporter": "python",
   "pygments_lexer": "ipython3",
   "version": "3.9.17"
  },
  "orig_nbformat": 4
 },
 "nbformat": 4,
 "nbformat_minor": 2
}
