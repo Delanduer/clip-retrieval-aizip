{
 "cells": [
  {
   "cell_type": "markdown",
   "id": "45465d7b",
   "metadata": {},
   "source": [
    "# CoCo Dataset #"
   ]
  },
  {
   "cell_type": "markdown",
   "id": "f1b34c6c",
   "metadata": {},
   "source": [
    "## General ##"
   ]
  },
  {
   "cell_type": "markdown",
   "id": "3d81270e",
   "metadata": {},
   "source": [
    "Number of images: 118287 "
   ]
  },
  {
   "cell_type": "markdown",
   "id": "72691642",
   "metadata": {},
   "source": [
    "### Embeddings ###"
   ]
  },
  {
   "cell_type": "markdown",
   "id": "45d7a09d",
   "metadata": {},
   "source": [
    "|model|JIT|distribution|read Duration|inference_duration|write_duration|total_duration|sample_count|size|\n",
    "|---|---|---|---|---|---|---|---|---|\n",
    "|ViT-B/32|yes|sequential|37.42|164.62|0.02|202.06(3.3 min)|118287|121126016 (116 Mb)|\n",
    "|ViT-B/32|no|sequential|15.87|186.23|0.02|202.13|118287|121126016|\n",
    "|ViT-B/32|yes|pyspark|32.67|166.09|0.03|198.80|118287|121126016|\n",
    "|ViT-L/64|yes|sequential|6.10|3220.61|0.05|3226.76(53.8 min)|118287|181688960 (174 Mb)|\n",
    "|ViT-L/64|no|sequential|5.85|3392.02|0.05|3397.92|118287|181688960|\n",
    "|ViT-L/64|yes|pyspark|6.07|3220.89|0.05|3227.01|118287|181688960|\n"
   ]
  },
  {
   "cell_type": "markdown",
   "id": "e926718e",
   "metadata": {},
   "source": [
    "Estimated effort for 400m:\n",
    "\n",
    "Size: 573 Gb"
   ]
  },
  {
   "cell_type": "code",
   "execution_count": 7,
   "id": "a807bf3e",
   "metadata": {},
   "outputs": [
    {
     "name": "stdout",
     "output_type": "stream",
     "text": [
      "{'index_key': 'HNSW32', 'index_param': 'efSearch=915', 'index_path': '/home/junjie/clip_test/index_coco_train2017_pyapi_pyspark/image.index', 'size in bytes': 274453014, 'avg_search_speed_ms': 9.525284638539667, '99p_search_speed_ms': 23.022338580340143, 'reconstruction error %': 0.0, 'nb vectors': 118287, 'vectors dimension': 512, 'compression ratio': 0.8826712174492644}\n"
     ]
    }
   ],
   "source": [
    "import os, glob, json\n",
    "output_folder= \"/home/junjie/clip_test/index_coco_train2017_pyapi_pyspark\"\n",
    "jfile = glob.glob(output_folder+\"/*.json\")\n",
    "with open(jfile[0]) as stats_file:\n",
    "    stats = json.load(stats_file)\n",
    "    print(stats)"
   ]
  },
  {
   "cell_type": "markdown",
   "id": "d63f1c6d",
   "metadata": {},
   "source": [
    "### Index ###"
   ]
  },
  {
   "cell_type": "markdown",
   "id": "49b4af7f",
   "metadata": {},
   "source": [
    "|model|JIT|distribution|size_in_bytes|avg_search_speed_ms|99p_search_speed_ms|nb_vectors|vectors_dimension|compression_ratio|\n",
    "|---|---|---|---|---|---|---|---|---|\n",
    "|ViT-B/32|yes|sequential|274453014(262 Mb)|9.27|19.99|118287|512|0.88|\n",
    "|ViT-B/32|no|sequential|274453014|9.91|19.60|118287|512|0.88|\n",
    "|ViT-B/32|yes|pyspark|274453014|9.52|23.02|118287|512|0.88|\n",
    "|ViT-L/64|yes|sequential|395578902 (377 Mb)|9.21|18.73|118287|768|0.92|\n",
    "|ViT-L/64|no|sequential|395578902|9.45|19.78|118287|768|0.92|\n",
    "|ViT-L/64|yes|pyspark|395578902|10.76|32.66|118287|768|0.92|\n"
   ]
  },
  {
   "cell_type": "markdown",
   "id": "9a330f8c",
   "metadata": {},
   "source": [
    "Estimated effort for 400m:\n",
    "\n",
    "Size: 1.22 Tb"
   ]
  },
  {
   "cell_type": "markdown",
   "id": "8d936e41",
   "metadata": {},
   "source": [
    "# Runtime Comparison\n",
    "\n",
    "## Model ViT-L/14, JIT\n",
    "|Dataset|Total Img|Write Batch|Partition|Tasks|Number GPU used|Total Duration|\n",
    "|---|---|---|---|---|---|---|\n",
    "|coco_train|118287|10^6|1|1|1|0:57:21.2934|\n",
    "|coco_val|5000|10^4|1|1|1|0:03:52.017714|\n",
    "|coco_train|118287|10^4|12|12|4|0:19:20.658036|\n",
    "|vww2014train|123287|10^4|12|12|4|0:20:44.009140|\n",
    "|coco_train, coco_val|123287|10^4|2|2|4|0:17:27.970358|\n",
    "|coco_train, coco_val, vww2014train|246574|10^4|3|3|4|0:32:57.903867|\n",
    "|coco_train, coco_val, vww2014train|246574|10^4|3|3|8|0:20:17.939559|"
   ]
  },
  {
   "cell_type": "markdown",
   "id": "24114514",
   "metadata": {},
   "source": [
    "# Laion400m Embedding\n",
    "## i00 - i31\n",
    "\n",
    "Log Path: /home/junjie/clip-retrieval-aizip/scripts/logs\n",
    "\n",
    "|Dataset|Total Img|Size|Total Duration|\n",
    "|---|---|---|---|\n",
    "|i00|12318094|18G|12:45:27.760571|\n",
    "|i01|12318687|18G|18:06:08.108883|\n",
    "|i02|12371834|18G|15:36:40.417217|\n",
    "|i03||18G|12:54:27.086083|\n",
    "|i04|12341609|18G|14:37:47.493596|\n",
    "|i05|12330534|18G|13:33:36.527020|\n",
    "|i06|12335648|18G|12:51:58.826998|\n",
    "|i07|12329108|18G|12:43:15.669603|\n",
    "|i08|12328545|18G|1 day, 9:03:00.492002|\n",
    "|i09|12333952|18G|13:21:42.882230|\n",
    "|i10|18633631|18G|12:53:22.162627|\n",
    "|i11|12333454|18G|12:55:54.309595|\n",
    "|i12|12326636|18G|15:36:37.568968|\n",
    "|i13|12313131|18G|16:21:12.611798|\n",
    "|i14|12321222|18G|15:45:26.588565|\n",
    "|i15|12295872|18G|15:12:10.312174|\n",
    "|i16|12309157|18G|13:02:04.193928|\n",
    "|i17|12308770|18G|13:57:54.818755|\n",
    "|i18|12316995|18G|13:52:00.610340|\n",
    "|i19|12312025|18G|12:41:51.594164|\n",
    "|i20|12302143|18G|16:59:11.058267|\n",
    "|i21|12312141|18G|16:07:21.126469|\n",
    "|i22|12309590|18G|14:22:28.319948|\n",
    "|i23|12316213|18G|14:04:50.258165|\n",
    "|i24|12300151|18G|15:02:16.523824|\n",
    "|i25|12319537|18G|14:39:59.520913|\n",
    "|i26|12325040|18G|13:43:31.319066|\n",
    "|i27|12318683|18G|14:36:50.448980|\n",
    "|i28|12319636|18G|17:54:02.928533|\n",
    "|i29|12315991|18G|14:45:19.407791|\n",
    "|i30|12165630|18G|14:24:39.306924|\n",
    "|i31|12325863|18G|13:34:45.447096|\n",
    "\n",
    "Total embeddings: 568G\n",
    "Total index: 19G\n",
    "\n",
    "Total vectors: 394,157,050\n",
    "avg_search_speed_ms: 10.442988588786106\n",
    "99p_search_speed_ms: 18.856306737288804"
   ]
  },
  {
   "cell_type": "code",
   "execution_count": null,
   "id": "ef44e419",
   "metadata": {},
   "outputs": [],
   "source": []
  }
 ],
 "metadata": {
  "kernelspec": {
   "display_name": "Python 3 (ipykernel)",
   "language": "python",
   "name": "python3"
  },
  "language_info": {
   "codemirror_mode": {
    "name": "ipython",
    "version": 3
   },
   "file_extension": ".py",
   "mimetype": "text/x-python",
   "name": "python",
   "nbconvert_exporter": "python",
   "pygments_lexer": "ipython3",
   "version": "3.9.13"
  }
 },
 "nbformat": 4,
 "nbformat_minor": 5
}
