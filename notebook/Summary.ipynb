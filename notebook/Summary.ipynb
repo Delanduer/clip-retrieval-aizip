{
 "cells": [
  {
   "cell_type": "markdown",
   "id": "45465d7b",
   "metadata": {},
   "source": [
    "# CoCo Dataset #"
   ]
  },
  {
   "cell_type": "markdown",
   "id": "f1b34c6c",
   "metadata": {},
   "source": [
    "## General ##"
   ]
  },
  {
   "cell_type": "markdown",
   "id": "3d81270e",
   "metadata": {},
   "source": [
    "Number of images: 118287 "
   ]
  },
  {
   "cell_type": "markdown",
   "id": "72691642",
   "metadata": {},
   "source": [
    "### Embeddings ###"
   ]
  },
  {
   "cell_type": "markdown",
   "id": "45d7a09d",
   "metadata": {},
   "source": [
    "|model|JIT|distribution|read Duration|inference_duration|write_duration|total_duration|sample_count|size|\n",
    "|---|---|---|---|---|---|---|---|---|\n",
    "|ViT-B/32|yes|sequential|37.42|164.62|0.02|202.06(3.3 min)|118287|121126016 (116 Mb)|\n",
    "|ViT-B/32|no|sequential|15.87|186.23|0.02|202.13|118287|121126016|\n",
    "|ViT-B/32|yes|pyspark|32.67|166.09|0.03|198.80|118287|121126016|\n",
    "|ViT-L/64|yes|sequential|6.10|3220.61|0.05|3226.76(53.8 min)|118287|181688960 (174 Mb)|\n",
    "|ViT-L/64|no|sequential|5.85|3392.02|0.05|3397.92|118287|181688960|\n",
    "|ViT-L/64|yes|pyspark|6.07|3220.89|0.05|3227.01|118287|181688960|\n"
   ]
  },
  {
   "cell_type": "markdown",
   "id": "e926718e",
   "metadata": {},
   "source": [
    "Estimated effort for 400m:\n",
    "\n",
    "Size: 573 Gb"
   ]
  },
  {
   "cell_type": "code",
   "execution_count": 7,
   "id": "a807bf3e",
   "metadata": {},
   "outputs": [
    {
     "name": "stdout",
     "output_type": "stream",
     "text": [
      "{'index_key': 'HNSW32', 'index_param': 'efSearch=915', 'index_path': '/home/junjie/clip_test/index_coco_train2017_pyapi_pyspark/image.index', 'size in bytes': 274453014, 'avg_search_speed_ms': 9.525284638539667, '99p_search_speed_ms': 23.022338580340143, 'reconstruction error %': 0.0, 'nb vectors': 118287, 'vectors dimension': 512, 'compression ratio': 0.8826712174492644}\n"
     ]
    }
   ],
   "source": [
    "import os, glob, json\n",
    "output_folder= \"/home/junjie/clip_test/index_coco_train2017_pyapi_pyspark\"\n",
    "jfile = glob.glob(output_folder+\"/*.json\")\n",
    "with open(jfile[0]) as stats_file:\n",
    "    stats = json.load(stats_file)\n",
    "    print(stats)"
   ]
  },
  {
   "cell_type": "markdown",
   "id": "d63f1c6d",
   "metadata": {},
   "source": [
    "### Index ###"
   ]
  },
  {
   "cell_type": "markdown",
   "id": "49b4af7f",
   "metadata": {},
   "source": [
    "|model|JIT|distribution|size_in_bytes|avg_search_speed_ms|99p_search_speed_ms|nb_vectors|vectors_dimension|compression_ratio|\n",
    "|---|---|---|---|---|---|---|---|---|\n",
    "|ViT-B/32|yes|sequential|274453014(262 Mb)|9.27|19.99|118287|512|0.88|\n",
    "|ViT-B/32|no|sequential|274453014|9.91|19.60|118287|512|0.88|\n",
    "|ViT-B/32|yes|pyspark|274453014|9.52|23.02|118287|512|0.88|\n",
    "|ViT-L/64|yes|sequential|395578902 (377 Mb)|9.21|18.73|118287|768|0.92|\n",
    "|ViT-L/64|no|sequential|395578902|9.45|19.78|118287|768|0.92|\n",
    "|ViT-L/64|yes|pyspark|395578902|10.76|32.66|118287|768|0.92|\n"
   ]
  },
  {
   "cell_type": "markdown",
   "id": "9a330f8c",
   "metadata": {},
   "source": [
    "Estimated effort for 400m:\n",
    "\n",
    "Size: 1.22 Tb"
   ]
  },
  {
   "cell_type": "code",
   "execution_count": null,
   "id": "fa82ff8e",
   "metadata": {},
   "outputs": [],
   "source": []
  }
 ],
 "metadata": {
  "kernelspec": {
   "display_name": "Python 3 (ipykernel)",
   "language": "python",
   "name": "python3"
  },
  "language_info": {
   "codemirror_mode": {
    "name": "ipython",
    "version": 3
   },
   "file_extension": ".py",
   "mimetype": "text/x-python",
   "name": "python",
   "nbconvert_exporter": "python",
   "pygments_lexer": "ipython3",
   "version": "3.9.12"
  }
 },
 "nbformat": 4,
 "nbformat_minor": 5
}
